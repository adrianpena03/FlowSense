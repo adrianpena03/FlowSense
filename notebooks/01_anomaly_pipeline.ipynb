{
 "cells": [
  {
   "cell_type": "markdown",
   "id": "37a18cc4",
   "metadata": {},
   "source": [
    "    FlowSense is a machine-learning–based anomaly detection system that analyzes\n",
    "Zscaler-style proxy and Zero Trust network logs to identify unusual user \n",
    "or session behavior. It ingests synthetic or public Kaggle log data, \n",
    "performs feature engineering on request frequency, HTTP methods, response codes, \n",
    "and user-agent patterns, then trains unsupervised models such as Isolation \n",
    "Forest or LOF to surface anomalies that may indicate data exfiltration, \n",
    "compromised accounts, or malicious activity."
   ]
  },
  {
   "cell_type": "code",
   "execution_count": null,
   "id": "fdc8db83",
   "metadata": {},
   "outputs": [],
   "source": [
    "# Import necessary libraries\n",
    "import pandas as pd\n",
    "import numpy as np\n",
    "import matplotlib.pyplot as plt"
   ]
  },
  {
   "cell_type": "code",
   "execution_count": null,
   "id": "1521976b",
   "metadata": {},
   "outputs": [],
   "source": [
    "# Sample log data\n",
    "\n",
    "logs = [\n",
    "    {\"time\": \"10:36:00\", \"user\": \"alice\", \"bytes\": 1200, \"Day\": \"Mon\", \"file_type\": \".pdf\"},\n",
    "    {\"time\": \"05:05:12\", \"user\": \"bob\", \"bytes\": 1500, \"Day\": \"Wed\", \"file_type\": \".zip\"},\n",
    "    {\"time\": \"12:11:03\", \"user\": \"alex\", \"bytes\": 30000, \"Day\": \"Sun\", \"file_type\": \".xlsx\"},\n",
    "    {\"time\": \"13:24:00\", \"user\": \"john\", \"bytes\": 30000, \"Day\": \"Sat\", \"file_type\": \".csv\"}\n",
    "\n",
    "]"
   ]
  },
  {
   "cell_type": "code",
   "execution_count": 4,
   "id": "1c93cec0",
   "metadata": {},
   "outputs": [
    {
     "name": "stdout",
     "output_type": "stream",
     "text": [
      "       time   user  bytes\n",
      "0  10:36:00  alice   1200\n",
      "1  05:05:12    bob   1500\n",
      "2  12:11:03   alex  30000\n",
      "3  13:24:00   john  30000\n"
     ]
    }
   ],
   "source": [
    "# Create DataFrame\n",
    "df = pd.DataFrame(logs)\n",
    "print(df)"
   ]
  },
  {
   "cell_type": "code",
   "execution_count": null,
   "id": "8ab4f7db",
   "metadata": {},
   "outputs": [],
   "source": [
    "# Add analysis code\n",
    "print(\"=== Basic Analysis ===\")\n",
    "print(f\"Average bytes downloaded: {df['bytes'].mean()}\")\n",
    "print(f\"Maximum bytes downloaded: {df['bytes'].max()}\")\n",
    "print(\"\\nWeekend activities:\")\n",
    "weekend_data = df[df['Day'].isin(['Sat', 'Sun'])]\n",
    "print(weekend_data)"
   ]
  }
 ],
 "metadata": {
  "kernelspec": {
   "display_name": "flowsense",
   "language": "python",
   "name": "python3"
  },
  "language_info": {
   "codemirror_mode": {
    "name": "ipython",
    "version": 3
   },
   "file_extension": ".py",
   "mimetype": "text/x-python",
   "name": "python",
   "nbconvert_exporter": "python",
   "pygments_lexer": "ipython3",
   "version": "3.11.11"
  }
 },
 "nbformat": 4,
 "nbformat_minor": 5
}
